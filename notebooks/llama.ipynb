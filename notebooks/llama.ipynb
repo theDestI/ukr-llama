{
 "cells": [
  {
   "cell_type": "code",
   "execution_count": 2,
   "id": "2aa10861",
   "metadata": {},
   "outputs": [],
   "source": [
    "import os\n",
    "import sys\n",
    "module_path = os.path.abspath(os.path.join('..'))\n",
    "if module_path not in sys.path:\n",
    "    sys.path.append(module_path)"
   ]
  },
  {
   "cell_type": "code",
   "execution_count": 3,
   "id": "1c8935f0",
   "metadata": {},
   "outputs": [
    {
     "name": "stdout",
     "output_type": "stream",
     "text": [
      "['▁Ма', 'ма', '▁ми', 'ла', '▁р', 'а', 'му', '.']\n"
     ]
    }
   ],
   "source": [
    "import sentencepiece as spm\n",
    "\n",
    "# Load the trained tokenizer\n",
    "sp = spm.SentencePieceProcessor(model_file='uk.model')\n",
    "\n",
    "# Tokenize a sentence\n",
    "sentence = \"Мама мила раму.\"\n",
    "tokens = sp.encode_as_pieces(sentence)\n",
    "print(tokens)"
   ]
  },
  {
   "cell_type": "code",
   "execution_count": 4,
   "id": "ad71edf2",
   "metadata": {},
   "outputs": [],
   "source": [
    "from llama.tokenizer import Tokenizer\n",
    "\n",
    "tokenizer = Tokenizer('uk.model')"
   ]
  },
  {
   "cell_type": "code",
   "execution_count": 5,
   "id": "971fb36c",
   "metadata": {},
   "outputs": [],
   "source": [
    "from llama.model import ModelArgs, Transformer\n",
    "\n",
    "params = ModelArgs(\n",
    "    vocab_size=tokenizer.n_words,\n",
    "    dim=512,\n",
    "    n_heads=8,\n",
    "    n_layers=6,\n",
    "    max_seq_len=512,\n",
    "    multiple_of=8,\n",
    "    norm_eps=1e-5\n",
    ")\n",
    "\n",
    "model = Transformer(params)"
   ]
  },
  {
   "cell_type": "code",
   "execution_count": null,
   "id": "31436df6",
   "metadata": {},
   "outputs": [],
   "source": []
  }
 ],
 "metadata": {
  "hide_input": false,
  "kernelspec": {
   "display_name": "torch_model_38",
   "language": "python",
   "name": "python3"
  },
  "language_info": {
   "codemirror_mode": {
    "name": "ipython",
    "version": 3
   },
   "file_extension": ".py",
   "mimetype": "text/x-python",
   "name": "python",
   "nbconvert_exporter": "python",
   "pygments_lexer": "ipython3",
   "version": "3.8.10"
  },
  "vscode": {
   "interpreter": {
    "hash": "211b3a1a72e85ab5e2cdab25376cfe923d57e0cf7d0a925afc5dd76577b44852"
   }
  }
 },
 "nbformat": 4,
 "nbformat_minor": 5
}
